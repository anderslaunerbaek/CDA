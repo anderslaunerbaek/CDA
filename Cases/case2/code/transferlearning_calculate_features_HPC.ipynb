{
 "cells": [
  {
   "cell_type": "markdown",
   "metadata": {},
   "source": [
    "# Transferlearning"
   ]
  },
  {
   "cell_type": "code",
   "execution_count": 1,
   "metadata": {},
   "outputs": [],
   "source": [
    "import numpy as np\n",
    "from matplotlib.image import imread\n",
    "from collections import Counter\n",
    "from scipy.signal import convolve2d\n",
    "\n",
    "\n",
    "\n",
    "def VARsob(S):\n",
    "    return(np.sum(np.power(S - np.mean(S), 2)))\n",
    "def TEN(S):\n",
    "    return(np.sum(np.power(S, 2)))\n",
    "    \n",
    "def get_dark_channel(image, win = 20):\n",
    "    ''' produces the dark channel prior in RGB space. \n",
    "    Parameters\n",
    "    ---------\n",
    "    Image: M * N * 3 numpy array\n",
    "    win: Window size for the dark channel prior\n",
    "    '''\n",
    "    M, N, _ = image.shape\n",
    "    pad = int(win / 2)\n",
    "\n",
    "    # Pad all axis, but not color space\n",
    "    padded = np.pad(image, ((pad, pad), (pad, pad), (0,0)), 'edge')\n",
    "\n",
    "    dark_channel = np.zeros((M, N))        \n",
    "    for i, j in np.ndindex(dark_channel.shape):\n",
    "        dark_channel[i,j] = np.min(padded[i:i + win, j:j + win, :])\n",
    "\n",
    "    return dark_channel\n",
    "\n",
    "def img_to_nparr(pic_path, img_height, img_width, rat = 1, ch = 3, verbose = True):\n",
    "    # import\n",
    "    # precalculations\n",
    "    image_height_r = int(img_height / rat)\n",
    "    image_width_r = int(img_width / rat)\n",
    "    pics = np.ndarray(shape=(len(pic_path), image_height_r, image_width_r, ch), dtype=np.float64)\n",
    "\n",
    "    # loop each pics in path\n",
    "    for ii, pic in enumerate(pic_path):\n",
    "        #\n",
    "        try:\n",
    "            img = imread(pic)\n",
    "        except:\n",
    "            print(pic)\n",
    "        # Convert to Numpy Array\n",
    "        try:\t\n",
    "            pics[ii] = img.reshape((image_height_r,image_width_r, ch))\n",
    "        except:\n",
    "            print(pic)\n",
    "            print(img.shape)\n",
    "        if ii % 100 == 0 and verbose:\n",
    "            print(\"%d images to array\" % ii)\n",
    "\n",
    "    print(\"All images to array!\")\n",
    "    #\n",
    "    return(pics)\n",
    "\n",
    "def sobel_filter(im, k_size = 3):\n",
    "    # https://stackoverflow.com/questions/7185655/applying-the-sobel-filter-using-scipy\n",
    "    #\n",
    "    im = im.astype(np.float)\n",
    "    width, height, c = im.shape\n",
    "    # force grayscale...\n",
    "    if c > 1:\n",
    "        img = 0.2126 * im[:,:,0] + 0.7152 * im[:,:,1] + 0.0722 * im[:,:,2]\n",
    "    else:\n",
    "        img = im\n",
    "    # check filter sizes\n",
    "    assert(k_size == 3 or k_size == 5);\n",
    "    # define filters\n",
    "    if k_size == 3:\n",
    "        kh = np.array([[-1, 0, 1], [-2, 0, 2], [-1, 0, 1]], dtype = np.float)\n",
    "        kv = np.array([[1, 2, 1], [0, 0, 0], [-1, -2, -1]], dtype = np.float)\n",
    "    else:\n",
    "        kh = np.array([[-1, -2, 0, 2, 1], [-4, -8, 0, 8, 4], [-6, -12, 0, 12, 6],\n",
    "            [-4, -8, 0, 8, 4], [-1, -2, 0, 2, 1]], dtype = np.float)\n",
    "        kv = np.array([[1, 4, 6, 4, 1],  [2, 8, 12, 8, 2], [0, 0, 0, 0, 0], \n",
    "            [-2, -8, -12, -8, -2], [-1, -4, -6, -4, -1]], dtype = np.float)\n",
    "\n",
    "    gx = convolve2d(img, kh, mode='same', boundary = 'symm', fillvalue=0)\n",
    "    gy = convolve2d(img, kv, mode='same', boundary = 'symm', fillvalue=0)\n",
    "\n",
    "    S = np.sqrt(gx * gx + gy * gy)\n",
    "    # normalize\n",
    "    S *= 255.0 / np.max(S)\n",
    "    #\n",
    "    return(S)\n",
    "\n",
    "def lapalce_filter(im, k_size = 3):\n",
    "    # \n",
    "    im = im.astype(np.float)\n",
    "    width, height, c = im.shape\n",
    "    # force grayscale...\n",
    "    if c > 1:\n",
    "        img = 0.2126 * im[:,:,0] + 0.7152 * im[:,:,1] + 0.0722 * im[:,:,2]\n",
    "    else:\n",
    "        img = im\n",
    "    # check filter sizes\n",
    "    assert(k_size == 3)\n",
    "\n",
    "    # define filter\n",
    "    kernel = 1/6 * np.array([[0, -1, 0], [-1, 4, -1], [0, -1, 0]], dtype = np.float)\n",
    "    L = convolve2d(img, kernel, mode='same', boundary = 'symm', fillvalue=0)\n",
    "    #\n",
    "    return(L)\n",
    "\n",
    "def overexposed_pixels(img):\n",
    "    # sum RGB if overexposed\n",
    "    tmp = np.sum(img == 255.0, 2)\n",
    "    # max one for each pixel\n",
    "    tmp[tmp > 1] = 1\n",
    "    #\n",
    "    tmp_dict = dict(Counter(tmp.reshape(np.multiply(tmp.shape[0],tmp.shape[1]))))\n",
    "    return(tmp_dict[1] / tmp_dict[0])"
   ]
  },
  {
   "cell_type": "code",
   "execution_count": 2,
   "metadata": {},
   "outputs": [],
   "source": [
    "pic_path = np.load(\"./../data/tmp/pic_path.npy\")\n",
    "pic_path = pic_path[0:2]\n",
    "n = len(pic_path)"
   ]
  },
  {
   "cell_type": "markdown",
   "metadata": {
    "collapsed": true
   },
   "source": [
    "## Create target variable and feature matrix"
   ]
  },
  {
   "cell_type": "code",
   "execution_count": 3,
   "metadata": {},
   "outputs": [
    {
     "name": "stdout",
     "output_type": "stream",
     "text": [
      "All images to array!\n"
     ]
    }
   ],
   "source": [
    "ratio = 1\n",
    "channels = 3\n",
    "\n",
    "pics = img_to_nparr(pic_path=pic_path,\n",
    "                    img_height = 288, \n",
    "                    img_width = 384, \n",
    "                    rat = ratio,\n",
    "                    ch = channels,\n",
    "                    verbose = False)\n",
    "#\n",
    "image_height, image_width, _ = pics[1].shape    \n",
    "n_pixels = image_height * image_width"
   ]
  },
  {
   "cell_type": "code",
   "execution_count": 4,
   "metadata": {},
   "outputs": [
    {
     "name": "stdout",
     "output_type": "stream",
     "text": [
      "Updated...\n"
     ]
    }
   ],
   "source": [
    "features = [\"Dark channel\", \"sobel_VARsob\", \"sobel_TEN\", \n",
    "            \"laplace_sum\", \"laplace_var\", \"pct_overexposed\"]\n",
    "n_features = len(features)\n",
    "\n",
    "X = np.zeros((n, n_features))\n",
    "for ii in range(n):\n",
    "    print(str(ii + 1) + \" of \" + str(n), end=\"\\r\")\n",
    "    feature_list = []\n",
    "    # dark channel\n",
    "    dc = get_dark_channel(pics[ii], win=20)\n",
    "    # close to 1 -> presents of fog\n",
    "    feature_list.append(np.mean(dc / 255.0)) \n",
    "\n",
    "    # sobel edge filtering\n",
    "    S = sobel_filter(pics[ii]),\n",
    "    feature_list.append(VARsob(S))\n",
    "    feature_list.append(TEN(S) / n_pixels)\n",
    "\n",
    "    # laplace\n",
    "    L = lapalce_filter(pics[ii])\n",
    "    feature_list.append(np.sum(abs(L)) / n_pixels)\n",
    "    feature_list.append(np.var(abs(L)) / n_pixels)\n",
    "\n",
    "    # pct. overexposed pixels\n",
    "    feature_list.append(overexposed_pixels(pics[ii]) / n_pixels)\n",
    "\n",
    "    # add to design matrix\n",
    "    X[ii,:] = feature_list\n",
    "# if updated save new... \n",
    "print(\"Updated...\")\n",
    "np.save(\"./../data/tmp/X_transfer.npy\", X)"
   ]
  },
  {
   "cell_type": "code",
   "execution_count": null,
   "metadata": {
    "collapsed": true
   },
   "outputs": [],
   "source": []
  }
 ],
 "metadata": {
  "kernelspec": {
   "display_name": "Python 3",
   "language": "python",
   "name": "python3"
  },
  "language_info": {
   "codemirror_mode": {
    "name": "ipython",
    "version": 3
   },
   "file_extension": ".py",
   "mimetype": "text/x-python",
   "name": "python",
   "nbconvert_exporter": "python",
   "pygments_lexer": "ipython3",
   "version": "3.6.3"
  }
 },
 "nbformat": 4,
 "nbformat_minor": 2
}
