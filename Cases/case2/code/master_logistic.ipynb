{
 "cells": [
  {
   "cell_type": "markdown",
   "metadata": {},
   "source": [
    "### Create TF graph"
   ]
  },
  {
   "cell_type": "code",
   "execution_count": 13,
   "metadata": {
    "collapsed": true
   },
   "outputs": [],
   "source": [
    "# reset\n",
    "tf.reset_default_graph()\n",
    "\n",
    "# Parameters\n",
    "learning_rate = 0.01\n",
    "training_epochs = 50000\n",
    "batch_size = 100\n",
    "display_step = 1000\n",
    "display_step_state = False\n",
    "\n",
    "# tf Graph Input\n",
    "x = tf.placeholder(tf.float32, [None, n_features])\n",
    "y = tf.placeholder(tf.float32, [None, n_classes])\n",
    "\n",
    "# Set model weights\n",
    "W = tf.Variable(tf.zeros([n_features, n_classes]))\n",
    "b = tf.Variable(tf.zeros([n_classes]))\n",
    "\n",
    "# Construct model\n",
    "pred = tf.nn.softmax(tf.matmul(x, W) + b) # Softmax\n",
    "\n",
    "# Minimize error using cross entropy\n",
    "cost = tf.reduce_mean(-tf.reduce_sum(y*tf.log(pred), reduction_indices=1))\n",
    "\n",
    "# Gradient Descent\n",
    "optimizer = tf.train.GradientDescentOptimizer(learning_rate).minimize(cost)\n",
    "# optimizer = tf.train.AdamOptimizer(learning_rate).minimize(cost)\n",
    "\n",
    "# Test model\n",
    "prediction = tf.argmax(pred, 1)\n",
    "correct_prediction = tf.equal(tf.argmax(pred, 1), tf.argmax(y, 1))\n",
    "# Calculate accuracy\n",
    "accuracy = tf.reduce_mean(tf.cast(correct_prediction, tf.float32))\n",
    "\n",
    "# Initialize the variables (i.e. assign their default value)\n",
    "init = tf.global_variables_initializer()\n",
    "\n",
    "# Add ops to save and restore all the variables.\n",
    "saver = tf.train.Saver()"
   ]
  },
  {
   "cell_type": "markdown",
   "metadata": {},
   "source": [
    "### Train model"
   ]
  },
  {
   "cell_type": "code",
   "execution_count": 14,
   "metadata": {
    "scrolled": true
   },
   "outputs": [
    {
     "name": "stdout",
     "output_type": "stream",
     "text": [
      "Model final saved in path: ./../data/models/model_final.ckpt\n",
      "\n",
      "\n",
      "Final model performance: \n",
      "\tAccuracy model:\t0.96316\n",
      "\tAccuracy test:\t0.96341\n"
     ]
    }
   ],
   "source": [
    "# https://github.com/aymericdamien/TensorFlow-Examples/blob/master/examples/2_BasicModels/logistic_regression.py\n",
    "\n",
    "# Start training\n",
    "with tf.Session() as sess:\n",
    "    # run the initializer\n",
    "    sess.run(init)\n",
    "    X_model_bn, X_test_bn = my.batch_normalization(X_model, X_test, epsilon=.0001)\n",
    "    # Training cycle starts\n",
    "    avg_cost = 0\n",
    "    for epoch in range(training_epochs):  \n",
    "        # display logs per epoch step\n",
    "        if ((epoch+1) % display_step == 0) and display_step_state:\n",
    "            print(\"Ep:\", '%04d' % (epoch+1), \n",
    "                  \"\\n\\tcost = {:.5f}\\t{:.5f}\\t{:.5f}\".format(avg_cost/epoch,\n",
    "                                                             sess.run(accuracy, feed_dict={x: X_model_bn, y: Y_model}),\n",
    "                                                             sess.run(accuracy, feed_dict={x: X_test_bn, y: Y_test})))\n",
    "        # \n",
    "        _, c = sess.run([optimizer, cost], feed_dict={x: X_model_bn, y: Y_model})\n",
    "\n",
    "        # aggregate loss\n",
    "        avg_cost += c\n",
    "\n",
    "    # model performance\n",
    "    acc_model = sess.run(accuracy, feed_dict={x: X_model_bn, y: Y_model})\n",
    "    acc_test = sess.run(accuracy, feed_dict={x: X_test_bn, y: Y_test})\n",
    "\n",
    "    # save model for folds\n",
    "    save_path = saver.save(sess, \"./../data/models/model_final.ckpt\")\n",
    "    print(\"Model final saved in path: %s\" % save_path)\n",
    "\n",
    "print(\"\\n\\nFinal model performance: \\n\\tAccuracy model:\\t{:.5f}\\n\\tAccuracy test:\\t{:.5f}\".format(acc_model, acc_test))"
   ]
  },
  {
   "cell_type": "markdown",
   "metadata": {},
   "source": [
    "## Model assessment"
   ]
  },
  {
   "cell_type": "code",
   "execution_count": 15,
   "metadata": {},
   "outputs": [
    {
     "name": "stdout",
     "output_type": "stream",
     "text": [
      "INFO:tensorflow:Restoring parameters from ./../data/models/model_final.ckpt\n",
      "Model restored.\n",
      "\n",
      "\n",
      "Accuracy:\t0.9634146341463414\n",
      "\n",
      "Confusion matrix (pred x true)\n",
      " [[46  1]\n",
      " [ 2 33]]\n"
     ]
    }
   ],
   "source": [
    "# get the test accuracy\n",
    "with tf.Session() as sess:\n",
    "    # restore variables\n",
    "    saver.restore(sess, \"./../data/models/model_final.ckpt\")\n",
    "    print(\"Model restored.\")\n",
    "    # batch norm\n",
    "    _, X_test_bn = my.batch_normalization(X_model, X_test, epsilon=.0001)\n",
    "    \n",
    "    # Check the values of the variables\n",
    "    acc_test, pred_test = sess.run([accuracy, prediction], feed_dict={x: X_test_bn, y: Y_test})\n",
    "    my.performance(pred_test, Y_test)\n",
    "    \n",
    "    Weights, bias = sess.run([W, b])\n",
    "    "
   ]
  },
  {
   "cell_type": "code",
   "execution_count": null,
   "metadata": {
    "collapsed": true
   },
   "outputs": [],
   "source": []
  }
 ],
 "metadata": {
  "kernelspec": {
   "display_name": "Python 3",
   "language": "python",
   "name": "python3"
  },
  "language_info": {
   "codemirror_mode": {
    "name": "ipython",
    "version": 3
   },
   "file_extension": ".py",
   "mimetype": "text/x-python",
   "name": "python",
   "nbconvert_exporter": "python",
   "pygments_lexer": "ipython3",
   "version": "3.6.3"
  }
 },
 "nbformat": 4,
 "nbformat_minor": 2
}
